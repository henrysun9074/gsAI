{
 "cells": [
  {
   "cell_type": "markdown",
   "metadata": {},
   "source": [
    "# Genomic Selection Post-Training Analysis & Visualization\n",
    "This notebook analyzes calibrated predicted breeding values produced by the training pipeline.\n",
    "\n",
    "## Data Loading"
   ]
  },
  {
   "cell_type": "code",
   "execution_count": null,
   "metadata": {},
   "outputs": [],
   "source": [
    "import pandas as pd\n",
    "import numpy as np\n",
    "import matplotlib.pyplot as plt\n",
    "import seaborn as sns\n",
    "from scipy.stats import pearsonr\n",
    "\n",
    "df = pd.read_csv('predicted_probabilities_with_labels.csv')\n",
    "models = ['LR','RF','GB','MLP']\n",
    "df.head()"
   ]
  },
  {
   "cell_type": "markdown",
   "metadata": {},
   "source": [
    "## 1. Descriptive Statistics & Rank Comparison"
   ]
  },
  {
   "cell_type": "code",
   "execution_count": null,
   "metadata": {},
   "outputs": [],
   "source": [
    "# Descriptive statistics for predicted breeding values\n",
    "stats = df[models].describe().T\n",
    "display(stats)\n",
    "\n",
    "# Top 100 individuals for each model and rank comparison\n",
    "rankings = {}\n",
    "for model in models:\n",
    "    top100 = df.nlargest(100, model)[['ID', model]].copy()\n",
    "    top100['Rank_in_'+model] = np.arange(1, 101)\n",
    "    for other in models:\n",
    "        if other != model:\n",
    "            top100['Rank_in_'+other] = df[other].rank(method='min', ascending=False).loc[top100.index].astype(int)\n",
    "    rankings[model] = top100\n",
    "\n",
    "# Example output\n",
    "rankings['LR'].head()"
   ]
  },
  {
   "cell_type": "markdown",
   "metadata": {},
   "source": [
    "## 2. Breeding Value Histograms"
   ]
  },
  {
   "cell_type": "code",
   "execution_count": null,
   "metadata": {},
   "outputs": [],
   "source": [
    "bin_width = 0.05\n",
    "bins = np.arange(0, 1.01, bin_width)\n",
    "\n",
    "fig, axes = plt.subplots(2, 2, figsize=(12, 10))\n",
    "axes = axes.flatten()\n",
    "\n",
    "for i, model in enumerate(models):\n",
    "    ax = axes[i]\n",
    "    sns.histplot(df[model], bins=bins, ax=ax, color='skyblue', edgecolor='black')\n",
    "    ax.scatter(df[model], np.random.uniform(0, 50, size=len(df)), \n",
    "               c=df['true_label'], cmap='bwr', alpha=0.6, marker='|')\n",
    "    ax.set_title(f'Histogram of Breeding Values - {model}')\n",
    "    ax.set_xlabel('Predicted Breeding Value')\n",
    "    ax.set_ylabel('Count')\n",
    "\n",
    "plt.tight_layout()\n",
    "plt.show()"
   ]
  },
  {
   "cell_type": "markdown",
   "metadata": {},
   "source": [
    "## 3. Correlation & Performance Plot"
   ]
  },
  {
   "cell_type": "code",
   "execution_count": null,
   "metadata": {},
   "outputs": [],
   "source": [
    "# Compute correlations per fold\n",
    "correlations = []\n",
    "for model in models:\n",
    "    fold_corrs = []\n",
    "    for fold in df['fold'].unique():\n",
    "        subset = df[df['fold'] == fold]\n",
    "        corr, _ = pearsonr(subset['true_label'], subset[model])\n",
    "        fold_corrs.append(corr)\n",
    "    correlations.append({\n",
    "        'Model': model,\n",
    "        'MeanCorr': np.mean(fold_corrs),\n",
    "        'SE': np.std(fold_corrs, ddof=1) / np.sqrt(len(fold_corrs))\n",
    "    })\n",
    "\n",
    "corr_df = pd.DataFrame(correlations)\n",
    "display(corr_df)\n",
    "\n",
    "# Bar chart with error bars\n",
    "plt.figure(figsize=(8, 6))\n",
    "plt.bar(corr_df['Model'], corr_df['MeanCorr'], yerr=corr_df['SE'], capsize=5, color='lightgreen')\n",
    "plt.ylabel('Pearson Correlation (True vs Predicted)')\n",
    "plt.title('Average Correlation with Survival (10-fold CV)')\n",
    "plt.show()"
   ]
  },
  {
   "cell_type": "markdown",
   "metadata": {},
   "source": [
    "## 4. Model Correlation Plot"
   ]
  },
  {
   "cell_type": "code",
   "execution_count": null,
   "metadata": {},
   "outputs": [],
   "source": [
    "# Average breeding value per individual across folds\n",
    "avg_preds = df.groupby('ID')[models].mean()\n",
    "\n",
    "# Pairwise Pearson correlations\n",
    "corr_matrix = avg_preds.corr(method='pearson')\n",
    "\n",
    "plt.figure(figsize=(8, 6))\n",
    "sns.heatmap(corr_matrix, annot=True, cmap='coolwarm', vmin=0, vmax=1)\n",
    "plt.title('Correlation Between Models (Average Breeding Values)')\n",
    "plt.show()"
   ]
  }
 ],
 "metadata": {
  "kernelspec": {
   "display_name": "Python 3",
   "language": "python",
   "name": "python3"
  },
  "language_info": {
   "name": "python",
   "version": "3.9"
  }
 },
 "nbformat": 4,
 "nbformat_minor": 2
}
